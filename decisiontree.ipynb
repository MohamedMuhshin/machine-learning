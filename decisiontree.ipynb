{
  "nbformat": 4,
  "nbformat_minor": 0,
  "metadata": {
    "colab": {
      "provenance": []
    },
    "kernelspec": {
      "name": "python3",
      "display_name": "Python 3"
    },
    "language_info": {
      "name": "python"
    }
  },
  "cells": [
    {
      "cell_type": "code",
      "source": [
        "#step 2:split the dataset into training and testing sets\n",
        "x_train,x_test,y_train,y_test = train_test_split(x,y,test_size=0.2,random_state=42)\n",
        "\n",
        "#step 3:fit Decision Tree Classifier\n",
        "classifier = DecisionTreeClassifier(random_state=42)\n",
        "classifier.fit(x_train,y_train)\n",
        "\n",
        "#step 4:predict on test set\n",
        "y_pred = classifier.predict(x_test)\n",
        "\n"
      ],
      "metadata": {
        "id": "oSEc0w8QvyTk"
      },
      "execution_count": null,
      "outputs": []
    },
    {
      "cell_type": "code",
      "source": [
        "#step 5:Evaluate the model\n",
        "accuracy = accuracy_score(y_test, y_pred)\n",
        "print(\"Accuracy:\", accuracy)"
      ],
      "metadata": {
        "id": "2fKYCjPSzrer"
      },
      "execution_count": null,
      "outputs": []
    },
    {
      "cell_type": "code",
      "execution_count": null,
      "metadata": {
        "id": "tXiz7v2Msji8"
      },
      "outputs": [],
      "source": [
        "import numpy as np\n",
        "import matplotlib.pyplot as plt\n",
        "from sklearn.datasets import load_iris\n",
        "from sklearn.model_selection import train_test_split\n",
        "from sklearn.tree import DecisionTreeClassifier\n",
        "from sklearn.metrics import accuracy_score,classification_report,confusion_matrix\n",
        "from sklearn import tree\n",
        "\n",
        "#step 1:load the iris dataset\n",
        "iris = load_iris()\n",
        "x,y = iris.data,iris.target"
      ]
    },
    {
      "cell_type": "code",
      "source": [
        "#step 7:Visualize the Decision Tree\n",
        "plt.figure(figsize=(12,8))\n",
        "tree.plot_tree(classifier, feature_names=iris.feature_names,class_names=iris.target_names,filled=True)\n",
        "plt.show()"
      ],
      "metadata": {
        "id": "6syf2Nao1YmL"
      },
      "execution_count": null,
      "outputs": []
    },
    {
      "cell_type": "code",
      "source": [
        "#step 6: Display classification report and confusion matrix\n",
        "print(\"\\nclassification Report:\")\n",
        "print(classification_report(y_test,y_pred))\n",
        "\n",
        "print(\"\\nConfusion Matrix:\")\n",
        "print(confusion_matrix(y_test, y_pred))"
      ],
      "metadata": {
        "id": "EOPxUPIw0Ze7"
      },
      "execution_count": null,
      "outputs": []
    }
  ]
}