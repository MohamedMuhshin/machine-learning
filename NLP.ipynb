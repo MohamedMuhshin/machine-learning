{
  "nbformat": 4,
  "nbformat_minor": 0,
  "metadata": {
    "colab": {
      "provenance": []
    },
    "kernelspec": {
      "name": "python3",
      "display_name": "Python 3"
    },
    "language_info": {
      "name": "python"
    }
  },
  "cells": [
    {
      "cell_type": "code",
      "source": [
        "# STEP 1: Import Libraries\n",
        "import pandas as pd\n",
        "import re\n",
        "import matplotlib.pyplot as plt\n",
        "import seaborn as sns\n",
        "\n",
        "from sklearn.model_selection import train_test_split\n",
        "from sklearn.feature_extraction.text import TfidfVectorizer\n",
        "from sklearn.linear_model import LogisticRegression\n",
        "from sklearn.metrics import accuracy_score, classification_report, confusion_matrix\n",
        "\n",
        "# STEP 2: Load Dataset\n",
        "df = pd.read_csv(\"/content/review.csv\")\n",
        "\n",
        "# Use only Rating (Id.6) and Review Text (Id.9)\n",
        "df = df[['Id.6','Id.9']].dropna()\n",
        "df.columns = ['Rating','Review']\n",
        "\n",
        "# STEP 3: Clean Text\n",
        "def clean_text(text):\n",
        "    text = str(text).lower()\n",
        "    text = re.sub(r\"http\\S+\", \"\", text)\n",
        "    text = re.sub(r\"[^a-z\\s]\", \"\", text)\n",
        "    return text.strip()\n",
        "\n",
        "df['Cleaned_Text'] = df['Review'].apply(clean_text)\n",
        "\n",
        "# STEP 4: Create Sentiment Labels from Rating\n",
        "def rating_to_sentiment(rating):\n",
        "    if rating <= 2:\n",
        "        return -1   # Bad\n",
        "    elif rating == 3:\n",
        "        return 0    # Neutral\n",
        "    else:\n",
        "        return 1    # Good\n",
        "\n",
        "df['Label'] = df['Rating'].apply(rating_to_sentiment)\n",
        "\n",
        "# STEP 5: Train/Test Split\n",
        "X_train, X_test, y_train, y_test = train_test_split(df['Cleaned_Text'], df['Label'], test_size=0.2, random_state=42)\n",
        "\n",
        "# STEP 6: Vectorize Text\n",
        "vectorizer = TfidfVectorizer(max_features=5000, stop_words='english')\n",
        "X_train_vec = vectorizer.fit_transform(X_train)\n",
        "X_test_vec = vectorizer.transform(X_test)\n",
        "\n",
        "# STEP 7: Train Model (Logistic Regression)\n",
        "model = LogisticRegression(max_iter=1000)\n",
        "model.fit(X_train_vec, y_train)\n",
        "\n",
        "# STEP 8: Evaluate\n",
        "y_pred = model.predict(X_test_vec)\n",
        "print(\" Accuracy:\", accuracy_score(y_test, y_pred))\n",
        "print(\"\\nClassification Report:\\n\", classification_report(y_test, y_pred))\n",
        "\n",
        "cm = confusion_matrix(y_test, y_pred, labels=[1,0,-1])\n",
        "sns.heatmap(cm, annot=True, fmt=\"d\", xticklabels=[\"Good\",\"Neutral\",\"Bad\"], yticklabels=[\"Good\",\"Neutral\",\"Bad\"], cmap=\"Blues\")\n",
        "plt.title(\"Confusion Matrix\")\n",
        "plt.show()\n",
        "\n",
        "# STEP 9: Predict All Reviews\n",
        "df['Predicted'] = model.predict(vectorizer.transform(df['Cleaned_Text']))\n",
        "\n",
        "# STEP 10: Separate Reviews\n",
        "good_reviews = df[df['Predicted'] == 1]['Review']\n",
        "neutral_reviews = df[df['Predicted'] == 0]['Review']\n",
        "bad_reviews = df[df['Predicted'] == -1]['Review']\n",
        "\n",
        "print(\"\\n📊 Sentiment Counts:\")\n",
        "print(\"👍 Good:\", len(good_reviews))\n",
        "print(\"😐 Neutral:\", len(neutral_reviews))\n",
        "print(\"👎 Bad:\", len(bad_reviews))\n",
        "\n",
        "print(\"\\n--- Good Reviews ---\")\n",
        "print(good_reviews.head(5).to_string(index=False))\n",
        "\n",
        "print(\"\\n--- Neutral Reviews ---\")\n",
        "print(neutral_reviews.head(5).to_string(index=False))\n",
        "\n",
        "print(\"\\n--- Bad Reviews ---\")\n",
        "print(bad_reviews.head(5).to_string(index=False))\n",
        "\n",
        "# STEP 11: Save Results\n",
        "df.to_csv(\"/content/review_with_predictions.csv\", index=False)\n",
        "print(\"\\n Predictions saved to 'review_with_predictions.csv'\")\n"
      ],
      "metadata": {
        "colab": {
          "base_uri": "https://localhost:8080/",
          "height": 1000
        },
        "id": "P2xcUv6zw1k_",
        "outputId": "1c3fee91-78d2-496f-f0f3-b890915f15a1"
      },
      "execution_count": 12,
      "outputs": [
        {
          "output_type": "stream",
          "name": "stdout",
          "text": [
            " Accuracy: 0.74\n",
            "\n",
            "Classification Report:\n",
            "               precision    recall  f1-score   support\n",
            "\n",
            "          -1       0.00      0.00      0.00        31\n",
            "           0       0.00      0.00      0.00        21\n",
            "           1       0.74      1.00      0.85       148\n",
            "\n",
            "    accuracy                           0.74       200\n",
            "   macro avg       0.25      0.33      0.28       200\n",
            "weighted avg       0.55      0.74      0.63       200\n",
            "\n"
          ]
        },
        {
          "output_type": "stream",
          "name": "stderr",
          "text": [
            "/usr/local/lib/python3.11/dist-packages/sklearn/metrics/_classification.py:1565: UndefinedMetricWarning: Precision is ill-defined and being set to 0.0 in labels with no predicted samples. Use `zero_division` parameter to control this behavior.\n",
            "  _warn_prf(average, modifier, f\"{metric.capitalize()} is\", len(result))\n",
            "/usr/local/lib/python3.11/dist-packages/sklearn/metrics/_classification.py:1565: UndefinedMetricWarning: Precision is ill-defined and being set to 0.0 in labels with no predicted samples. Use `zero_division` parameter to control this behavior.\n",
            "  _warn_prf(average, modifier, f\"{metric.capitalize()} is\", len(result))\n",
            "/usr/local/lib/python3.11/dist-packages/sklearn/metrics/_classification.py:1565: UndefinedMetricWarning: Precision is ill-defined and being set to 0.0 in labels with no predicted samples. Use `zero_division` parameter to control this behavior.\n",
            "  _warn_prf(average, modifier, f\"{metric.capitalize()} is\", len(result))\n"
          ]
        },
        {
          "output_type": "display_data",
          "data": {
            "text/plain": [
              "<Figure size 640x480 with 2 Axes>"
            ],
            "image/png": "[encoded data removed]"
          },
          "metadata": {}
        },
        {
          "output_type": "stream",
          "name": "stdout",
          "text": [
            "\n",
            "📊 Sentiment Counts:\n",
            "👍 Good: 982\n",
            "😐 Neutral: 0\n",
            "👎 Bad: 17\n",
            "\n",
            "--- Good Reviews ---\n",
            "I have bought several of the Vitality canned do...\n",
            "Product arrived labeled as Jumbo Salted Peanuts...\n",
            "This is a confection that has been around a few...\n",
            "If you are looking for the secret ingredient in...\n",
            "Great taffy at a great price.  There was a wide...\n",
            "\n",
            "--- Neutral Reviews ---\n",
            "Series([], )\n",
            "\n",
            "--- Bad Reviews ---\n",
            "I don't know how long these sat on the back of ...\n",
            "I haven't used the ham base. It is loaded with ...\n",
            "Just awful!  I thought food was supposed to tas...\n",
            "These are perhaps the worst chips that have eve...\n",
            "Got these Kettle Chips Sea Salt & Vinegar (15 5...\n",
            "\n",
            " Predictions saved to 'review_with_predictions.csv'\n"
          ]
        }
      ]
    }
  ]
}