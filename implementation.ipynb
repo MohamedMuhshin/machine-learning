{
  "nbformat": 4,
  "nbformat_minor": 0,
  "metadata": {
    "colab": {
      "provenance": []
    },
    "kernelspec": {
      "name": "python3",
      "display_name": "Python 3"
    },
    "language_info": {
      "name": "python"
    }
  },
  "cells": [
    {
      "cell_type": "code",
      "execution_count": null,
      "metadata": {
        "colab": {
          "base_uri": "https://localhost:8080/"
        },
        "id": "xjxWMFPlp5XL",
        "outputId": "6fb3fa09-ae0a-46a2-8d0b-6e7b730deff5"
      },
      "outputs": [
        {
          "output_type": "stream",
          "name": "stdout",
          "text": [
            "[0]\n"
          ]
        }
      ],
      "source": [
        "from sklearn import tree\n",
        "features = [[140,1],[130,1],[150,0],[170,0]]\n",
        "labels =[0,0,1,1]\n",
        "clf = tree.DecisionTreeClassifier()\n",
        "clf=clf.fit(features,labels)\n",
        "output=clf.predict([[130,1]])\n",
        "print(output)"
      ]
    }
  ]
}