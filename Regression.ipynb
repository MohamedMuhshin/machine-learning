{
  "nbformat": 4,
  "nbformat_minor": 0,
  "metadata": {
    "colab": {
      "provenance": []
    },
    "kernelspec": {
      "name": "python3",
      "display_name": "Python 3"
    },
    "language_info": {
      "name": "python"
    }
  },
  "cells": [
    {
      "cell_type": "code",
      "execution_count": null,
      "metadata": {
        "id": "kMAUvCNyt1Y7"
      },
      "outputs": [],
      "source": [
        "import numpy as np\n",
        "from sklearn.datasets import load_diabetes\n",
        "from sklearn.model_selection import train_test_split\n",
        "from sklearn.linear_model import LinearRegression\n",
        "from sklearn.preprocessing import PolynomialFeatures\n",
        "from sklearn.svm import SVR\n",
        "from sklearn.tree import DecisionTreeRegressor\n",
        "from sklearn.metrics import mean_squared_error\n",
        "\n",
        "# load the diabetes dataset\n",
        "diabetes = load_diabetes()\n",
        "x = diabetes.data\n",
        "y = diabetes.target\n",
        "\n",
        "# split data into training and testing sets\n",
        "x_train, x_test, y_train, y_test = train_test_split(x, y, test_size=0.2, random_state=42)"
      ]
    },
    {
      "cell_type": "code",
      "source": [
        "# polynomial Regression\n",
        "degree = 2\n",
        "poly_features = PolynomialFeatures(degree=degree)\n",
        "x_poly_train = poly_features.fit_transform(x_train)\n",
        "x_poly_test = poly_features.transform(x_test)\n",
        "poly_reg = LinearRegression()\n",
        "poly_reg.fit(x_poly_train, y_train)\n",
        "y_poly_train_pred = poly_reg.predict(x_poly_train)\n",
        "y_poly_test_pred = poly_reg.predict(x_poly_test)\n",
        "poly_train_rmse = np.sqrt(mean_squared_error(y_train, y_poly_train_pred))\n",
        "poly_test_rmse = np.sqrt(mean_squared_error(y_test, y_poly_test_pred))\n"
      ],
      "metadata": {
        "id": "kCUlet8jsO6c"
      },
      "execution_count": null,
      "outputs": []
    },
    {
      "cell_type": "code",
      "source": [
        "# print RMSE for each model\n",
        "print(\"Polynomial Regression:\")\n",
        "print(f\"Training RMSE: {poly_train_rmse:.2f}\")\n",
        "print(f\"Testing RMSE: {poly_test_rmse:.2f}\\n\")"
      ],
      "metadata": {
        "colab": {
          "base_uri": "https://localhost:8080/"
        },
        "id": "I6PYALoKwITz",
        "outputId": "9a63ec1c-2b6b-438c-c0e3-3289f2a65035"
      },
      "execution_count": null,
      "outputs": [
        {
          "output_type": "stream",
          "name": "stdout",
          "text": [
            "Polynomial Regression:\n",
            "Training RMSE: 48.92\n",
            "Testing RMSE: 55.64\n",
            "\n"
          ]
        }
      ]
    },
    {
      "cell_type": "code",
      "source": [
        "# Support Vector Regeression\n",
        "svr = SVR(kernel='rbf')\n",
        "svr.fit(x_train, y_train)\n",
        "y_svr_train_pred = svr.predict(x_train)\n",
        "y_svr_test_pred = svr.predict(x_test)\n",
        "svr_train_rmse = np.sqrt(mean_squared_error(y_train, y_svr_train_pred))\n",
        "svr_test_rmse = np.sqrt(mean_squared_error(y_test, y_svr_test_pred))\n",
        "\n",
        "# print RMSE for each model\n",
        "print(\"Support Vector Regression:\")\n",
        "print(f\"training RMSE: {svr_train_rmse:.2f}\")\n",
        "print(f\"testing RMSE: {svr_test_rmse:.2f}\\n\")"
      ],
      "metadata": {
        "colab": {
          "base_uri": "https://localhost:8080/"
        },
        "id": "Nj-d6BGI2EFV",
        "outputId": "78bb276e-5944-4a2c-89b1-b68aa04e7746"
      },
      "execution_count": null,
      "outputs": [
        {
          "output_type": "stream",
          "name": "stdout",
          "text": [
            "Support Vector Regression:\n",
            "training RMSE: 71.15\n",
            "testing RMSE: 65.83\n",
            "\n"
          ]
        }
      ]
    },
    {
      "cell_type": "code",
      "source": [
        "# Decision Tree Regeression\n",
        "decision_tree = DecisionTreeRegressor(random_state=42)\n",
        "decision_tree.fit(x_train, y_train)\n",
        "y_dt_train_pred = decision_tree.predict(x_train)\n",
        "y_dt_test_pred = decision_tree.predict(x_test)\n",
        "dt_train_rmse = np.sqrt(mean_squared_error(y_train,y_dt_train_pred))\n",
        "dt_test_rmse = np.sqrt(mean_squared_error(y_test,y_dt_test_pred)) # Fixed this line\n",
        "\n",
        "# print RMSE for each model\n",
        "print(\"Decision Tree Regression:\")\n",
        "print(f\"training RMSE: {dt_train_rmse:.2f}\")\n",
        "print(f\"testing RMSE: {dt_test_rmse:.2f}\")"
      ],
      "metadata": {
        "colab": {
          "base_uri": "https://localhost:8080/"
        },
        "id": "lfmtejhH4ntT",
        "outputId": "f51cbf61-60fd-42ea-e1e0-6a092cf3a8a4"
      },
      "execution_count": null,
      "outputs": [
        {
          "output_type": "stream",
          "name": "stdout",
          "text": [
            "Decision Tree Regression:\n",
            "training RMSE: 0.00\n",
            "testing RMSE: 70.55\n"
          ]
        }
      ]
    }
  ]
}