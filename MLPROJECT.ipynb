{
 "cells": [
  {
   "cell_type": "code",
   "execution_count": 22,
   "metadata": {
    "colab": {
     "base_uri": "https://localhost:8080/",
     "height": 1000
    },
    "id": "UYTdvU4dzaz_",
    "outputId": "2d55061b-df10-4211-aca8-8ac0c5045daf"
   },
   "outputs": [
    {
     "ename": "ModuleNotFoundError",
     "evalue": "No module named 'google.colab'",
     "output_type": "error",
     "traceback": [
      "\u001b[1;31m---------------------------------------------------------------------------\u001b[0m",
      "\u001b[1;31mModuleNotFoundError\u001b[0m                       Traceback (most recent call last)",
      "Cell \u001b[1;32mIn[22], line 2\u001b[0m\n\u001b[0;32m      1\u001b[0m \u001b[38;5;66;03m# STEP 1: Upload your dataset\u001b[39;00m\n\u001b[1;32m----> 2\u001b[0m \u001b[38;5;28;01mfrom\u001b[39;00m \u001b[38;5;21;01mgoogle\u001b[39;00m\u001b[38;5;21;01m.\u001b[39;00m\u001b[38;5;21;01mcolab\u001b[39;00m \u001b[38;5;28;01mimport\u001b[39;00m files\n\u001b[0;32m      3\u001b[0m uploaded \u001b[38;5;241m=\u001b[39m files\u001b[38;5;241m.\u001b[39mupload()\n\u001b[0;32m      5\u001b[0m \u001b[38;5;28;01mimport\u001b[39;00m \u001b[38;5;21;01mpandas\u001b[39;00m \u001b[38;5;28;01mas\u001b[39;00m \u001b[38;5;21;01mpd\u001b[39;00m\n",
      "\u001b[1;31mModuleNotFoundError\u001b[0m: No module named 'google.colab'"
     ]
    }
   ],
   "source": [
    "# STEP 1: Upload your dataset\n",
    "from google.colab import files\n",
    "uploaded = files.upload()\n",
    "\n",
    "import pandas as pd\n",
    "from io import StringIO\n",
    "\n",
    "# STEP 2: Load CSV file\n",
    "for file_name in uploaded.keys():\n",
    "    df = pd.read_csv(StringIO(uploaded[file_name].decode('utf-8')))\n",
    "    print(f\"\\n✅ Dataset '{file_name}' uploaded successfully.\\n\")\n",
    "    break  # Only use the first file\n",
    "\n",
    "# Show a preview\n",
    "print(\"📄 First 5 rows of the dataset:\")\n",
    "display(df.head())\n",
    "\n",
    "# STEP 3: Select the target column\n",
    "print(\"\\n🔍 Available columns:\", df.columns.tolist())\n",
    "target_col = input(\"\\n🎯 Enter the name of the target (label) column (e.g., 'category'): \")\n",
    "\n",
    "# Split into features and target\n",
    "X = df.drop(columns=[target_col])\n",
    "y = df[target_col]\n",
    "\n",
    "# Handle categorical data (e.g., turning text into numbers)\n",
    "X = pd.get_dummies(X)  # This converts categorical columns to numeric\n",
    "if y.dtype == 'object':\n",
    "    y = pd.factorize(y)[0]  # Convert categorical labels to numeric values\n",
    "\n",
    "# STEP 4: Split the dataset\n",
    "from sklearn.model_selection import train_test_split\n",
    "X_train, X_test, y_train, y_test = train_test_split(X, y, test_size=0.3, random_state=42)\n",
    "\n",
    "# STEP 5: Train Random Forest\n",
    "from sklearn.ensemble import RandomForestClassifier\n",
    "rf_model = RandomForestClassifier(random_state=42)\n",
    "rf_model.fit(X_train, y_train)\n",
    "rf_pred = rf_model.predict(X_test)\n",
    "\n",
    "# STEP 6: Train Naive Bayes\n",
    "from sklearn.naive_bayes import GaussianNB\n",
    "nb_model = GaussianNB()\n",
    "nb_model.fit(X_train, y_train)\n",
    "nb_pred = nb_model.predict(X_test)\n",
    "\n",
    "# STEP 7: Evaluate Models (Accuracy, Classification Report, Confusion Matrix)\n",
    "from sklearn.metrics import accuracy_score, classification_report, confusion_matrix\n",
    "import seaborn as sns\n",
    "import matplotlib.pyplot as plt\n",
    "\n",
    "# Accuracy scores\n",
    "rf_acc = accuracy_score(y_test, rf_pred)\n",
    "nb_acc = accuracy_score(y_test, nb_pred)\n",
    "\n",
    "# Print accuracy results\n",
    "print(\"\\n📊 Accuracy Results:\")\n",
    "print(f\"🌲 Random Forest Accuracy: {rf_acc:.2%}\")\n",
    "print(f\"🧠 Naive Bayes Accuracy: {nb_acc:.2%}\")\n",
    "\n",
    "# Classification Report for Random Forest\n",
    "print(\"\\n🌲 Random Forest Classification Report:\")\n",
    "print(classification_report(y_test, rf_pred))\n",
    "\n",
    "# Confusion Matrix for Random Forest\n",
    "print(\"🌲 Random Forest Confusion Matrix:\")\n",
    "plt.figure(figsize=(5, 4))\n",
    "sns.heatmap(confusion_matrix(y_test, rf_pred), annot=True, fmt='d', cmap='Blues')\n",
    "plt.title(\"Random Forest Confusion Matrix\")\n",
    "plt.xlabel(\"Predicted\")\n",
    "plt.ylabel(\"Actual\")\n",
    "plt.show()\n",
    "\n",
    "# Classification Report for Naive Bayes\n",
    "print(\"\\n🧠 Naive Bayes Classification Report:\")\n",
    "print(classification_report(y_test, nb_pred))\n",
    "\n",
    "# Confusion Matrix for Naive Bayes\n",
    "print(\"🧠 Naive Bayes Confusion Matrix:\")\n",
    "plt.figure(figsize=(5, 4))\n",
    "sns.heatmap(confusion_matrix(y_test, nb_pred), annot=True, fmt='d', cmap='Greens')\n",
    "plt.title(\"Naive Bayes Confusion Matrix\")\n",
    "plt.xlabel(\"Predicted\")\n",
    "plt.ylabel(\"Actual\")\n"
   ]
  },
  {
   "cell_type": "code",
   "execution_count": null,
   "metadata": {},
   "outputs": [],
   "source": []
  }
 ],
 "metadata": {
  "colab": {
   "provenance": []
  },
  "kernelspec": {
   "display_name": "Python [conda env:base] *",
   "language": "python",
   "name": "conda-base-py"
  },
  "language_info": {
   "codemirror_mode": {
    "name": "ipython",
    "version": 3
   },
   "file_extension": ".py",
   "mimetype": "text/x-python",
   "name": "python",
   "nbconvert_exporter": "python",
   "pygments_lexer": "ipython3",
   "version": "3.12.7"
  }
 },
 "nbformat": 4,
 "nbformat_minor": 4
}
